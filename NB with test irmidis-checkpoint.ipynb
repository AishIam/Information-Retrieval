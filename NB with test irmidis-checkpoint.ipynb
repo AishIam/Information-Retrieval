{
 "cells": [
  {
   "cell_type": "code",
   "execution_count": 1,
   "id": "bb06176c",
   "metadata": {},
   "outputs": [],
   "source": [
    "import pandas as pd\n",
    "import nltk\n",
    "import string\n",
    "import re"
   ]
  },
  {
   "cell_type": "markdown",
   "id": "0022edd2",
   "metadata": {},
   "source": [
    "### READING TRAIN DATASET"
   ]
  },
  {
   "cell_type": "code",
   "execution_count": 2,
   "id": "3ea01032",
   "metadata": {},
   "outputs": [
    {
     "data": {
      "text/html": [
       "<div>\n",
       "<style scoped>\n",
       "    .dataframe tbody tr th:only-of-type {\n",
       "        vertical-align: middle;\n",
       "    }\n",
       "\n",
       "    .dataframe tbody tr th {\n",
       "        vertical-align: top;\n",
       "    }\n",
       "\n",
       "    .dataframe thead th {\n",
       "        text-align: right;\n",
       "    }\n",
       "</style>\n",
       "<table border=\"1\" class=\"dataframe\">\n",
       "  <thead>\n",
       "    <tr style=\"text-align: right;\">\n",
       "      <th></th>\n",
       "      <th>id</th>\n",
       "      <th>tweet</th>\n",
       "      <th>label</th>\n",
       "    </tr>\n",
       "  </thead>\n",
       "  <tbody>\n",
       "    <tr>\n",
       "      <th>0</th>\n",
       "      <td>1325682517148569600</td>\n",
       "      <td>Coronavirus: Some Canadians hesitant to take a COVID-19 vaccine – Global News https://t.co/pOgrnxWbGL</td>\n",
       "      <td>AntiVax</td>\n",
       "    </tr>\n",
       "    <tr>\n",
       "      <th>1</th>\n",
       "      <td>1325684180483600384</td>\n",
       "      <td>Moderna on track to report late-stage COVID-19 vaccine data next month: The vaccine is currently being tested in a large human trial, and Moderna was in talks with a WHO-led group for distribution. https://t.co/CJGuw7rDzj JPost https://t.co/QPAhjvDm76</td>\n",
       "      <td>Neutral</td>\n",
       "    </tr>\n",
       "    <tr>\n",
       "      <th>2</th>\n",
       "      <td>1325689685943996416</td>\n",
       "      <td>The Philippine government is in talks with Anglo-Swedish drugmaker AstraZeneca to procure doses of its prospective COVID-19 vaccine. | @DYGalvezINQ https://t.co/dVTpgOZT9h</td>\n",
       "      <td>Neutral</td>\n",
       "    </tr>\n",
       "    <tr>\n",
       "      <th>3</th>\n",
       "      <td>1325690517724782593</td>\n",
       "      <td>Care homes to be FIRST to receive coronavirus vaccine that could roll out before Christmas https://t.co/V71edGrw7F</td>\n",
       "      <td>Neutral</td>\n",
       "    </tr>\n",
       "    <tr>\n",
       "      <th>4</th>\n",
       "      <td>1325697646909132800</td>\n",
       "      <td>This is why thinking that a vaccine is a panacea is a dangerous idea.\\n\\nYou can outsmart evolution at your own peril. https://t.co/WJXen4MfTV https://t.co/3yx5Bf9hTh</td>\n",
       "      <td>AntiVax</td>\n",
       "    </tr>\n",
       "  </tbody>\n",
       "</table>\n",
       "</div>"
      ],
      "text/plain": [
       "                    id                                                                                                                                                                                                                                                        tweet    label\n",
       "0  1325682517148569600                                                                                                                                                        Coronavirus: Some Canadians hesitant to take a COVID-19 vaccine – Global News https://t.co/pOgrnxWbGL  AntiVax\n",
       "1  1325684180483600384  Moderna on track to report late-stage COVID-19 vaccine data next month: The vaccine is currently being tested in a large human trial, and Moderna was in talks with a WHO-led group for distribution. https://t.co/CJGuw7rDzj JPost https://t.co/QPAhjvDm76  Neutral\n",
       "2  1325689685943996416                                                                                  The Philippine government is in talks with Anglo-Swedish drugmaker AstraZeneca to procure doses of its prospective COVID-19 vaccine. | @DYGalvezINQ https://t.co/dVTpgOZT9h  Neutral\n",
       "3  1325690517724782593                                                                                                                                           Care homes to be FIRST to receive coronavirus vaccine that could roll out before Christmas https://t.co/V71edGrw7F  Neutral\n",
       "4  1325697646909132800                                                                                       This is why thinking that a vaccine is a panacea is a dangerous idea.\\n\\nYou can outsmart evolution at your own peril. https://t.co/WJXen4MfTV https://t.co/3yx5Bf9hTh  AntiVax"
      ]
     },
     "execution_count": 2,
     "metadata": {},
     "output_type": "execute_result"
    }
   ],
   "source": [
    "pd.set_option('display.width', 10000)\n",
    "pd.set_option('display.max_colwidth', 10000)\n",
    "df = pd.read_csv(\"irmidis-2021-task2-train.csv\")\n",
    "df.head()"
   ]
  },
  {
   "cell_type": "markdown",
   "id": "7ff01fc3",
   "metadata": {},
   "source": [
    "### Text cleaning"
   ]
  },
  {
   "cell_type": "code",
   "execution_count": 3,
   "id": "891d0664",
   "metadata": {},
   "outputs": [],
   "source": [
    "import neattext.functions as nfx"
   ]
  },
  {
   "cell_type": "code",
   "execution_count": 4,
   "id": "b43d6a5a",
   "metadata": {},
   "outputs": [],
   "source": [
    "df['tweet'] = df['tweet'].apply(nfx.remove_multiple_spaces)\n",
    "df['tweet'] = df['tweet'].apply(nfx.remove_hashtags)\n",
    "df['tweet'] = df['tweet'].apply(nfx.remove_userhandles)\n",
    "df['tweet'] = df['tweet'].apply(nfx.remove_emails)\n",
    "df['tweet'] = df['tweet'].apply(nfx.remove_emojis)\n",
    "df['tweet'] = df['tweet'].apply(nfx.remove_urls)\n",
    "df['tweet'] = df['tweet'].apply(nfx.remove_special_characters)\n",
    "df['tweet'] = df['tweet'].apply(nfx.remove_punctuations)\n",
    "df['tweet'] = df['tweet'].apply(nfx.remove_stopwords)"
   ]
  },
  {
   "cell_type": "code",
   "execution_count": 5,
   "id": "65882bc7",
   "metadata": {},
   "outputs": [
    {
     "data": {
      "text/html": [
       "<div>\n",
       "<style scoped>\n",
       "    .dataframe tbody tr th:only-of-type {\n",
       "        vertical-align: middle;\n",
       "    }\n",
       "\n",
       "    .dataframe tbody tr th {\n",
       "        vertical-align: top;\n",
       "    }\n",
       "\n",
       "    .dataframe thead th {\n",
       "        text-align: right;\n",
       "    }\n",
       "</style>\n",
       "<table border=\"1\" class=\"dataframe\">\n",
       "  <thead>\n",
       "    <tr style=\"text-align: right;\">\n",
       "      <th></th>\n",
       "      <th>id</th>\n",
       "      <th>tweet</th>\n",
       "      <th>label</th>\n",
       "    </tr>\n",
       "  </thead>\n",
       "  <tbody>\n",
       "    <tr>\n",
       "      <th>0</th>\n",
       "      <td>1325682517148569600</td>\n",
       "      <td>Coronavirus Canadians hesitant COVID19 vaccine GlobalNews</td>\n",
       "      <td>AntiVax</td>\n",
       "    </tr>\n",
       "    <tr>\n",
       "      <th>1</th>\n",
       "      <td>1325684180483600384</td>\n",
       "      <td>Moderna track report latestage COVID19 vaccine data month vaccine currently tested large human trial Moderna talks WHOled group distribution JPost</td>\n",
       "      <td>Neutral</td>\n",
       "    </tr>\n",
       "    <tr>\n",
       "      <th>2</th>\n",
       "      <td>1325689685943996416</td>\n",
       "      <td>Philippine government talks AngloSwedish drugmaker AstraZeneca procure doses prospective COVID19 vaccine</td>\n",
       "      <td>Neutral</td>\n",
       "    </tr>\n",
       "    <tr>\n",
       "      <th>3</th>\n",
       "      <td>1325690517724782593</td>\n",
       "      <td>Care homes receive coronavirus vaccine roll beforeChristmas</td>\n",
       "      <td>Neutral</td>\n",
       "    </tr>\n",
       "    <tr>\n",
       "      <th>4</th>\n",
       "      <td>1325697646909132800</td>\n",
       "      <td>thinking vaccine panacea dangerous idea outsmart evolution peril</td>\n",
       "      <td>AntiVax</td>\n",
       "    </tr>\n",
       "    <tr>\n",
       "      <th>5</th>\n",
       "      <td>1325699765930254336</td>\n",
       "      <td>Hospitals reportedly prepped possible coronavirus vaccine roll weeks says optimistic think people vaccinated Christmas good news Watch GMB latesthttpstcofzcHkA6S4k</td>\n",
       "      <td>Neutral</td>\n",
       "    </tr>\n",
       "    <tr>\n",
       "      <th>6</th>\n",
       "      <td>1325720167867965440</td>\n",
       "      <td>Zambia talks Russia accessing Sputnik V coronavirus vaccine</td>\n",
       "      <td>Neutral</td>\n",
       "    </tr>\n",
       "    <tr>\n",
       "      <th>7</th>\n",
       "      <td>1325768441370800128</td>\n",
       "      <td>Pfizer says coronavirus vaccine 90 percent effective compared placebo major effects Study involved 44000 people</td>\n",
       "      <td>Neutral</td>\n",
       "    </tr>\n",
       "    <tr>\n",
       "      <th>8</th>\n",
       "      <td>1325770677580918785</td>\n",
       "      <td>QampA COVID19 vaccinerace</td>\n",
       "      <td>Neutral</td>\n",
       "    </tr>\n",
       "    <tr>\n",
       "      <th>9</th>\n",
       "      <td>1325770986571096064</td>\n",
       "      <td>good news Covid19 vaccine candidate 90 effective says manufacturer</td>\n",
       "      <td>ProVax</td>\n",
       "    </tr>\n",
       "  </tbody>\n",
       "</table>\n",
       "</div>"
      ],
      "text/plain": [
       "                    id                                                                                                                                                                tweet    label\n",
       "0  1325682517148569600                                                                                                            Coronavirus Canadians hesitant COVID19 vaccine GlobalNews  AntiVax\n",
       "1  1325684180483600384                   Moderna track report latestage COVID19 vaccine data month vaccine currently tested large human trial Moderna talks WHOled group distribution JPost  Neutral\n",
       "2  1325689685943996416                                                             Philippine government talks AngloSwedish drugmaker AstraZeneca procure doses prospective COVID19 vaccine  Neutral\n",
       "3  1325690517724782593                                                                                                          Care homes receive coronavirus vaccine roll beforeChristmas  Neutral\n",
       "4  1325697646909132800                                                                                                     thinking vaccine panacea dangerous idea outsmart evolution peril  AntiVax\n",
       "5  1325699765930254336  Hospitals reportedly prepped possible coronavirus vaccine roll weeks says optimistic think people vaccinated Christmas good news Watch GMB latesthttpstcofzcHkA6S4k  Neutral\n",
       "6  1325720167867965440                                                                                                          Zambia talks Russia accessing Sputnik V coronavirus vaccine  Neutral\n",
       "7  1325768441370800128                                                      Pfizer says coronavirus vaccine 90 percent effective compared placebo major effects Study involved 44000 people  Neutral\n",
       "8  1325770677580918785                                                                                                                                            QampA COVID19 vaccinerace  Neutral\n",
       "9  1325770986571096064                                                                                                   good news Covid19 vaccine candidate 90 effective says manufacturer   ProVax"
      ]
     },
     "execution_count": 5,
     "metadata": {},
     "output_type": "execute_result"
    }
   ],
   "source": [
    "df.head(10)"
   ]
  },
  {
   "cell_type": "markdown",
   "id": "8005f989",
   "metadata": {},
   "source": [
    "### TOKENIZATION"
   ]
  },
  {
   "cell_type": "code",
   "execution_count": 6,
   "id": "5ba228f8",
   "metadata": {},
   "outputs": [],
   "source": [
    "tokenizer = nltk.tokenize.TweetTokenizer(preserve_case = False, strip_handles = True, reduce_len = True)\n",
    "\n",
    "def tokenize_text(text):\n",
    "    tokens = tokenizer.tokenize(text)\n",
    "    return tokens\n",
    "\n",
    "df['tweet'] = df['tweet'].apply(lambda x: tokenize_text(x.lower()))"
   ]
  },
  {
   "cell_type": "markdown",
   "id": "23b81f14",
   "metadata": {},
   "source": [
    "### LEMMATIZATION"
   ]
  },
  {
   "cell_type": "code",
   "execution_count": 7,
   "id": "056992ec",
   "metadata": {},
   "outputs": [
    {
     "data": {
      "text/html": [
       "<div>\n",
       "<style scoped>\n",
       "    .dataframe tbody tr th:only-of-type {\n",
       "        vertical-align: middle;\n",
       "    }\n",
       "\n",
       "    .dataframe tbody tr th {\n",
       "        vertical-align: top;\n",
       "    }\n",
       "\n",
       "    .dataframe thead th {\n",
       "        text-align: right;\n",
       "    }\n",
       "</style>\n",
       "<table border=\"1\" class=\"dataframe\">\n",
       "  <thead>\n",
       "    <tr style=\"text-align: right;\">\n",
       "      <th></th>\n",
       "      <th>id</th>\n",
       "      <th>tweet</th>\n",
       "      <th>label</th>\n",
       "    </tr>\n",
       "  </thead>\n",
       "  <tbody>\n",
       "    <tr>\n",
       "      <th>0</th>\n",
       "      <td>1325682517148569600</td>\n",
       "      <td>coronavirus canadian hesitant covid 19 vaccine globalnews</td>\n",
       "      <td>AntiVax</td>\n",
       "    </tr>\n",
       "    <tr>\n",
       "      <th>1</th>\n",
       "      <td>1325684180483600384</td>\n",
       "      <td>moderna track report latestage covid 19 vaccine data month vaccine currently tested large human trial moderna talk wholed group distribution jpost</td>\n",
       "      <td>Neutral</td>\n",
       "    </tr>\n",
       "    <tr>\n",
       "      <th>2</th>\n",
       "      <td>1325689685943996416</td>\n",
       "      <td>philippine government talk angloswedish drugmaker astrazeneca procure dos prospective covid 19 vaccine</td>\n",
       "      <td>Neutral</td>\n",
       "    </tr>\n",
       "    <tr>\n",
       "      <th>3</th>\n",
       "      <td>1325690517724782593</td>\n",
       "      <td>care home receive coronavirus vaccine roll beforechristmas</td>\n",
       "      <td>Neutral</td>\n",
       "    </tr>\n",
       "    <tr>\n",
       "      <th>4</th>\n",
       "      <td>1325697646909132800</td>\n",
       "      <td>thinking vaccine panacea dangerous idea outsmart evolution peril</td>\n",
       "      <td>AntiVax</td>\n",
       "    </tr>\n",
       "  </tbody>\n",
       "</table>\n",
       "</div>"
      ],
      "text/plain": [
       "                    id                                                                                                                                               tweet    label\n",
       "0  1325682517148569600                                                                                           coronavirus canadian hesitant covid 19 vaccine globalnews  AntiVax\n",
       "1  1325684180483600384  moderna track report latestage covid 19 vaccine data month vaccine currently tested large human trial moderna talk wholed group distribution jpost  Neutral\n",
       "2  1325689685943996416                                              philippine government talk angloswedish drugmaker astrazeneca procure dos prospective covid 19 vaccine  Neutral\n",
       "3  1325690517724782593                                                                                          care home receive coronavirus vaccine roll beforechristmas  Neutral\n",
       "4  1325697646909132800                                                                                    thinking vaccine panacea dangerous idea outsmart evolution peril  AntiVax"
      ]
     },
     "execution_count": 7,
     "metadata": {},
     "output_type": "execute_result"
    }
   ],
   "source": [
    "from nltk.stem import WordNetLemmatizer\n",
    "wn = WordNetLemmatizer()\n",
    "\n",
    "def lemm(tokenized_text):\n",
    "    text = [wn.lemmatize(word) for word in tokenized_text]\n",
    "    return text\n",
    "\n",
    "df['tweet'] = df['tweet'].apply(lambda x: lemm(x))\n",
    "df.head(10)\n",
    "\n",
    "\n",
    "df['tweet'] = [' '.join(map(str, l)) for l in df['tweet']]\n",
    "\n",
    "df.head()"
   ]
  },
  {
   "cell_type": "markdown",
   "id": "504f8233",
   "metadata": {},
   "source": [
    "### TFIDF VECTORIZATION"
   ]
  },
  {
   "cell_type": "code",
   "execution_count": 8,
   "id": "3f87edbb",
   "metadata": {},
   "outputs": [],
   "source": [
    "from sklearn.feature_extraction.text import TfidfVectorizer\n",
    "vectorizer = TfidfVectorizer()\n",
    "vectors = vectorizer.fit_transform(df['tweet'])"
   ]
  },
  {
   "cell_type": "code",
   "execution_count": 9,
   "id": "92c9b9d6",
   "metadata": {},
   "outputs": [],
   "source": [
    "df['encoded_label'] = df['label'].map({'ProVax' : 0,\n",
    "                                      'AntiVax' : 1,\n",
    "                                      'Neutral' : 2})"
   ]
  },
  {
   "cell_type": "markdown",
   "id": "c316da2c",
   "metadata": {},
   "source": [
    "### SEPARATING DEPENDENT AND INDEPENDANT VARIABLES"
   ]
  },
  {
   "cell_type": "code",
   "execution_count": 10,
   "id": "bc48d7ab",
   "metadata": {},
   "outputs": [],
   "source": [
    "X = vectors.toarray()  #independent\n",
    "y = df.iloc[:, -1].values  #dependent"
   ]
  },
  {
   "cell_type": "markdown",
   "id": "15c08f77",
   "metadata": {},
   "source": [
    "### Training the Naive Bayes model on the training dataset"
   ]
  },
  {
   "cell_type": "code",
   "execution_count": 11,
   "id": "f2a74b58",
   "metadata": {},
   "outputs": [
    {
     "data": {
      "text/plain": [
       "MultinomialNB()"
      ]
     },
     "execution_count": 11,
     "metadata": {},
     "output_type": "execute_result"
    }
   ],
   "source": [
    "from sklearn.naive_bayes import MultinomialNB\n",
    "classifier = MultinomialNB()\n",
    "classifier.fit(X, y)"
   ]
  },
  {
   "cell_type": "markdown",
   "id": "1a1407d3",
   "metadata": {},
   "source": [
    "### TESTING DATASET"
   ]
  },
  {
   "cell_type": "code",
   "execution_count": 12,
   "id": "95b4e5a9",
   "metadata": {},
   "outputs": [],
   "source": [
    "df2 = pd.read_csv(\"irmidis-2021-task2-test.csv\")"
   ]
  },
  {
   "cell_type": "markdown",
   "id": "c71ac4fb",
   "metadata": {},
   "source": [
    "### CLEAING OF TEST DATASET"
   ]
  },
  {
   "cell_type": "code",
   "execution_count": 13,
   "id": "3f26702f",
   "metadata": {},
   "outputs": [],
   "source": [
    "df2['tweet'] = df2['tweet'].apply(nfx.remove_multiple_spaces)\n",
    "df2['tweet'] = df2['tweet'].apply(nfx.remove_hashtags)\n",
    "df2['tweet'] = df2['tweet'].apply(nfx.remove_userhandles)\n",
    "df2['tweet'] = df2['tweet'].apply(nfx.remove_emails)\n",
    "df2['tweet'] = df2['tweet'].apply(nfx.remove_emojis)\n",
    "df2['tweet'] = df2['tweet'].apply(nfx.remove_urls)\n",
    "df2['tweet'] = df2['tweet'].apply(nfx.remove_special_characters)\n",
    "df2['tweet'] = df2['tweet'].apply(nfx.remove_punctuations)\n",
    "df2['tweet'] = df2['tweet'].apply(nfx.remove_stopwords)"
   ]
  },
  {
   "cell_type": "markdown",
   "id": "860e29b6",
   "metadata": {},
   "source": [
    "### TOKENIZATION, LEMMATIZATION & VECTORIZATION (TEST)"
   ]
  },
  {
   "cell_type": "code",
   "execution_count": 14,
   "id": "9d068af6",
   "metadata": {},
   "outputs": [],
   "source": [
    "df2['tweet'] = df2['tweet'].apply(lambda x: tokenize_text(x.lower()))\n",
    "df2['tweet'] = df2['tweet'].apply(lambda x: lemm(x))\n",
    "df2['tweet'] = [' '.join(map(str, l)) for l in df2['tweet']]"
   ]
  },
  {
   "cell_type": "code",
   "execution_count": 15,
   "id": "eee38b3e",
   "metadata": {},
   "outputs": [],
   "source": [
    "vectors2 = vectorizer.transform(df2['tweet'])"
   ]
  },
  {
   "cell_type": "code",
   "execution_count": 16,
   "id": "bb06af36",
   "metadata": {},
   "outputs": [],
   "source": [
    "X_test = vectors2.toarray()"
   ]
  },
  {
   "cell_type": "code",
   "execution_count": 17,
   "id": "66633e5a",
   "metadata": {},
   "outputs": [
    {
     "data": {
      "text/html": [
       "<div>\n",
       "<style scoped>\n",
       "    .dataframe tbody tr th:only-of-type {\n",
       "        vertical-align: middle;\n",
       "    }\n",
       "\n",
       "    .dataframe tbody tr th {\n",
       "        vertical-align: top;\n",
       "    }\n",
       "\n",
       "    .dataframe thead th {\n",
       "        text-align: right;\n",
       "    }\n",
       "</style>\n",
       "<table border=\"1\" class=\"dataframe\">\n",
       "  <thead>\n",
       "    <tr style=\"text-align: right;\">\n",
       "      <th></th>\n",
       "      <th>id</th>\n",
       "      <th>tweet</th>\n",
       "    </tr>\n",
       "  </thead>\n",
       "  <tbody>\n",
       "    <tr>\n",
       "      <th>0</th>\n",
       "      <td>1259097719341297664</td>\n",
       "      <td>poll million american refuse covid 19 vaccine world hopefully</td>\n",
       "    </tr>\n",
       "    <tr>\n",
       "      <th>1</th>\n",
       "      <td>1307596484251062273</td>\n",
       "      <td>right remember time line getting effective vaccine longer think expected covid 19 course rna virus rapid mutation likely mean incomplete protection year year</td>\n",
       "    </tr>\n",
       "    <tr>\n",
       "      <th>2</th>\n",
       "      <td>1296241188823953409</td>\n",
       "      <td>got key new house month covid lockdown construction delayed im hoping vaccine mass produce soon</td>\n",
       "    </tr>\n",
       "    <tr>\n",
       "      <th>3</th>\n",
       "      <td>1294639481216045056</td>\n",
       "      <td>cdc july 2020 acip meeting overview covid 19 vaccine clinical trial</td>\n",
       "    </tr>\n",
       "    <tr>\n",
       "      <th>4</th>\n",
       "      <td>1319741954721239041</td>\n",
       "      <td>notably absent vaccine nightmare facing covid 19 caused 225000 dead american show trump focus pathetic</td>\n",
       "    </tr>\n",
       "  </tbody>\n",
       "</table>\n",
       "</div>"
      ],
      "text/plain": [
       "                    id                                                                                                                                                          tweet\n",
       "0  1259097719341297664                                                                                                  poll million american refuse covid 19 vaccine world hopefully\n",
       "1  1307596484251062273  right remember time line getting effective vaccine longer think expected covid 19 course rna virus rapid mutation likely mean incomplete protection year year\n",
       "2  1296241188823953409                                                                got key new house month covid lockdown construction delayed im hoping vaccine mass produce soon\n",
       "3  1294639481216045056                                                                                            cdc july 2020 acip meeting overview covid 19 vaccine clinical trial\n",
       "4  1319741954721239041                                                         notably absent vaccine nightmare facing covid 19 caused 225000 dead american show trump focus pathetic"
      ]
     },
     "execution_count": 17,
     "metadata": {},
     "output_type": "execute_result"
    }
   ],
   "source": [
    "df2.head()"
   ]
  },
  {
   "cell_type": "markdown",
   "id": "ee51e55a",
   "metadata": {},
   "source": [
    "### Predicting the results"
   ]
  },
  {
   "cell_type": "code",
   "execution_count": 18,
   "id": "ef3f34cb",
   "metadata": {},
   "outputs": [],
   "source": [
    "y_pred = classifier.predict(X_test)"
   ]
  },
  {
   "cell_type": "markdown",
   "id": "339ab6a0",
   "metadata": {},
   "source": [
    "#### ADDING A COL IN TEST DATASET WITH PREDICTED ENCODED_LABELS"
   ]
  },
  {
   "cell_type": "code",
   "execution_count": 19,
   "id": "b27c6df6",
   "metadata": {},
   "outputs": [],
   "source": [
    "df2['encoded_label'] = y_pred"
   ]
  },
  {
   "cell_type": "code",
   "execution_count": 20,
   "id": "f6a457df",
   "metadata": {},
   "outputs": [
    {
     "data": {
      "text/html": [
       "<div>\n",
       "<style scoped>\n",
       "    .dataframe tbody tr th:only-of-type {\n",
       "        vertical-align: middle;\n",
       "    }\n",
       "\n",
       "    .dataframe tbody tr th {\n",
       "        vertical-align: top;\n",
       "    }\n",
       "\n",
       "    .dataframe thead th {\n",
       "        text-align: right;\n",
       "    }\n",
       "</style>\n",
       "<table border=\"1\" class=\"dataframe\">\n",
       "  <thead>\n",
       "    <tr style=\"text-align: right;\">\n",
       "      <th></th>\n",
       "      <th>id</th>\n",
       "      <th>tweet</th>\n",
       "      <th>encoded_label</th>\n",
       "    </tr>\n",
       "  </thead>\n",
       "  <tbody>\n",
       "    <tr>\n",
       "      <th>0</th>\n",
       "      <td>1259097719341297664</td>\n",
       "      <td>poll million american refuse covid 19 vaccine world hopefully</td>\n",
       "      <td>0</td>\n",
       "    </tr>\n",
       "    <tr>\n",
       "      <th>1</th>\n",
       "      <td>1307596484251062273</td>\n",
       "      <td>right remember time line getting effective vaccine longer think expected covid 19 course rna virus rapid mutation likely mean incomplete protection year year</td>\n",
       "      <td>0</td>\n",
       "    </tr>\n",
       "    <tr>\n",
       "      <th>2</th>\n",
       "      <td>1296241188823953409</td>\n",
       "      <td>got key new house month covid lockdown construction delayed im hoping vaccine mass produce soon</td>\n",
       "      <td>0</td>\n",
       "    </tr>\n",
       "    <tr>\n",
       "      <th>3</th>\n",
       "      <td>1294639481216045056</td>\n",
       "      <td>cdc july 2020 acip meeting overview covid 19 vaccine clinical trial</td>\n",
       "      <td>2</td>\n",
       "    </tr>\n",
       "    <tr>\n",
       "      <th>4</th>\n",
       "      <td>1319741954721239041</td>\n",
       "      <td>notably absent vaccine nightmare facing covid 19 caused 225000 dead american show trump focus pathetic</td>\n",
       "      <td>2</td>\n",
       "    </tr>\n",
       "  </tbody>\n",
       "</table>\n",
       "</div>"
      ],
      "text/plain": [
       "                    id                                                                                                                                                          tweet  encoded_label\n",
       "0  1259097719341297664                                                                                                  poll million american refuse covid 19 vaccine world hopefully              0\n",
       "1  1307596484251062273  right remember time line getting effective vaccine longer think expected covid 19 course rna virus rapid mutation likely mean incomplete protection year year              0\n",
       "2  1296241188823953409                                                                got key new house month covid lockdown construction delayed im hoping vaccine mass produce soon              0\n",
       "3  1294639481216045056                                                                                            cdc july 2020 acip meeting overview covid 19 vaccine clinical trial              2\n",
       "4  1319741954721239041                                                         notably absent vaccine nightmare facing covid 19 caused 225000 dead american show trump focus pathetic              2"
      ]
     },
     "execution_count": 20,
     "metadata": {},
     "output_type": "execute_result"
    }
   ],
   "source": [
    "df2.head()"
   ]
  },
  {
   "cell_type": "markdown",
   "id": "c4442c7c",
   "metadata": {},
   "source": [
    "#### ADDING ANOTHER COLUMS WITH DECODED LABEL NAMES"
   ]
  },
  {
   "cell_type": "code",
   "execution_count": 21,
   "id": "329ce359",
   "metadata": {},
   "outputs": [],
   "source": [
    "df2['pred'] = df2['encoded_label'].map({0 : 'ProVax',\n",
    "                                        1 : 'AntiVax',\n",
    "                                        2 : 'Neutral'})"
   ]
  },
  {
   "cell_type": "code",
   "execution_count": 22,
   "id": "665cbbac",
   "metadata": {},
   "outputs": [
    {
     "data": {
      "text/html": [
       "<div>\n",
       "<style scoped>\n",
       "    .dataframe tbody tr th:only-of-type {\n",
       "        vertical-align: middle;\n",
       "    }\n",
       "\n",
       "    .dataframe tbody tr th {\n",
       "        vertical-align: top;\n",
       "    }\n",
       "\n",
       "    .dataframe thead th {\n",
       "        text-align: right;\n",
       "    }\n",
       "</style>\n",
       "<table border=\"1\" class=\"dataframe\">\n",
       "  <thead>\n",
       "    <tr style=\"text-align: right;\">\n",
       "      <th></th>\n",
       "      <th>id</th>\n",
       "      <th>tweet</th>\n",
       "      <th>encoded_label</th>\n",
       "      <th>pred</th>\n",
       "    </tr>\n",
       "  </thead>\n",
       "  <tbody>\n",
       "    <tr>\n",
       "      <th>0</th>\n",
       "      <td>1259097719341297664</td>\n",
       "      <td>poll million american refuse covid 19 vaccine world hopefully</td>\n",
       "      <td>0</td>\n",
       "      <td>ProVax</td>\n",
       "    </tr>\n",
       "    <tr>\n",
       "      <th>1</th>\n",
       "      <td>1307596484251062273</td>\n",
       "      <td>right remember time line getting effective vaccine longer think expected covid 19 course rna virus rapid mutation likely mean incomplete protection year year</td>\n",
       "      <td>0</td>\n",
       "      <td>ProVax</td>\n",
       "    </tr>\n",
       "    <tr>\n",
       "      <th>2</th>\n",
       "      <td>1296241188823953409</td>\n",
       "      <td>got key new house month covid lockdown construction delayed im hoping vaccine mass produce soon</td>\n",
       "      <td>0</td>\n",
       "      <td>ProVax</td>\n",
       "    </tr>\n",
       "    <tr>\n",
       "      <th>3</th>\n",
       "      <td>1294639481216045056</td>\n",
       "      <td>cdc july 2020 acip meeting overview covid 19 vaccine clinical trial</td>\n",
       "      <td>2</td>\n",
       "      <td>Neutral</td>\n",
       "    </tr>\n",
       "    <tr>\n",
       "      <th>4</th>\n",
       "      <td>1319741954721239041</td>\n",
       "      <td>notably absent vaccine nightmare facing covid 19 caused 225000 dead american show trump focus pathetic</td>\n",
       "      <td>2</td>\n",
       "      <td>Neutral</td>\n",
       "    </tr>\n",
       "    <tr>\n",
       "      <th>...</th>\n",
       "      <td>...</td>\n",
       "      <td>...</td>\n",
       "      <td>...</td>\n",
       "      <td>...</td>\n",
       "    </tr>\n",
       "    <tr>\n",
       "      <th>95</th>\n",
       "      <td>1338630220472061953</td>\n",
       "      <td>im 100 getting covid vaccine soon able 2020 hard shake thought kind shit legend start</td>\n",
       "      <td>0</td>\n",
       "      <td>ProVax</td>\n",
       "    </tr>\n",
       "    <tr>\n",
       "      <th>96</th>\n",
       "      <td>1327612772239208453</td>\n",
       "      <td>postdose safety information trial data time passed ill pas thanks freedom choice equate selfishness</td>\n",
       "      <td>1</td>\n",
       "      <td>AntiVax</td>\n",
       "    </tr>\n",
       "    <tr>\n",
       "      <th>97</th>\n",
       "      <td>1334055767108972545</td>\n",
       "      <td>confirmed hamilton seat pfizer announcing vaccine approval uk</td>\n",
       "      <td>2</td>\n",
       "      <td>Neutral</td>\n",
       "    </tr>\n",
       "    <tr>\n",
       "      <th>98</th>\n",
       "      <td>1336160175217106949</td>\n",
       "      <td>distributing covid vaccine nursing home theyre old death wont affect economy vaccine harm</td>\n",
       "      <td>2</td>\n",
       "      <td>Neutral</td>\n",
       "    </tr>\n",
       "    <tr>\n",
       "      <th>99</th>\n",
       "      <td>1291062180847267841</td>\n",
       "      <td>knock knock who astrazeneca fuck want come raised 3billion come shoe</td>\n",
       "      <td>1</td>\n",
       "      <td>AntiVax</td>\n",
       "    </tr>\n",
       "  </tbody>\n",
       "</table>\n",
       "<p>100 rows × 4 columns</p>\n",
       "</div>"
      ],
      "text/plain": [
       "                     id                                                                                                                                                          tweet  encoded_label     pred\n",
       "0   1259097719341297664                                                                                                  poll million american refuse covid 19 vaccine world hopefully              0   ProVax\n",
       "1   1307596484251062273  right remember time line getting effective vaccine longer think expected covid 19 course rna virus rapid mutation likely mean incomplete protection year year              0   ProVax\n",
       "2   1296241188823953409                                                                got key new house month covid lockdown construction delayed im hoping vaccine mass produce soon              0   ProVax\n",
       "3   1294639481216045056                                                                                            cdc july 2020 acip meeting overview covid 19 vaccine clinical trial              2  Neutral\n",
       "4   1319741954721239041                                                         notably absent vaccine nightmare facing covid 19 caused 225000 dead american show trump focus pathetic              2  Neutral\n",
       "..                  ...                                                                                                                                                            ...            ...      ...\n",
       "95  1338630220472061953                                                                          im 100 getting covid vaccine soon able 2020 hard shake thought kind shit legend start              0   ProVax\n",
       "96  1327612772239208453                                                            postdose safety information trial data time passed ill pas thanks freedom choice equate selfishness              1  AntiVax\n",
       "97  1334055767108972545                                                                                                  confirmed hamilton seat pfizer announcing vaccine approval uk              2  Neutral\n",
       "98  1336160175217106949                                                                      distributing covid vaccine nursing home theyre old death wont affect economy vaccine harm              2  Neutral\n",
       "99  1291062180847267841                                                                                           knock knock who astrazeneca fuck want come raised 3billion come shoe              1  AntiVax\n",
       "\n",
       "[100 rows x 4 columns]"
      ]
     },
     "execution_count": 22,
     "metadata": {},
     "output_type": "execute_result"
    }
   ],
   "source": [
    "df2.head(100)"
   ]
  },
  {
   "cell_type": "code",
   "execution_count": 23,
   "id": "32dd11e2",
   "metadata": {},
   "outputs": [
    {
     "data": {
      "text/html": [
       "<div>\n",
       "<style scoped>\n",
       "    .dataframe tbody tr th:only-of-type {\n",
       "        vertical-align: middle;\n",
       "    }\n",
       "\n",
       "    .dataframe tbody tr th {\n",
       "        vertical-align: top;\n",
       "    }\n",
       "\n",
       "    .dataframe thead th {\n",
       "        text-align: right;\n",
       "    }\n",
       "</style>\n",
       "<table border=\"1\" class=\"dataframe\">\n",
       "  <thead>\n",
       "    <tr style=\"text-align: right;\">\n",
       "      <th></th>\n",
       "      <th>id</th>\n",
       "      <th>pred</th>\n",
       "    </tr>\n",
       "  </thead>\n",
       "  <tbody>\n",
       "    <tr>\n",
       "      <th>0</th>\n",
       "      <td>1259097719341297664</td>\n",
       "      <td>ProVax</td>\n",
       "    </tr>\n",
       "    <tr>\n",
       "      <th>1</th>\n",
       "      <td>1307596484251062273</td>\n",
       "      <td>ProVax</td>\n",
       "    </tr>\n",
       "    <tr>\n",
       "      <th>2</th>\n",
       "      <td>1296241188823953409</td>\n",
       "      <td>ProVax</td>\n",
       "    </tr>\n",
       "    <tr>\n",
       "      <th>3</th>\n",
       "      <td>1294639481216045056</td>\n",
       "      <td>Neutral</td>\n",
       "    </tr>\n",
       "    <tr>\n",
       "      <th>4</th>\n",
       "      <td>1319741954721239041</td>\n",
       "      <td>Neutral</td>\n",
       "    </tr>\n",
       "  </tbody>\n",
       "</table>\n",
       "</div>"
      ],
      "text/plain": [
       "                    id     pred\n",
       "0  1259097719341297664   ProVax\n",
       "1  1307596484251062273   ProVax\n",
       "2  1296241188823953409   ProVax\n",
       "3  1294639481216045056  Neutral\n",
       "4  1319741954721239041  Neutral"
      ]
     },
     "execution_count": 23,
     "metadata": {},
     "output_type": "execute_result"
    }
   ],
   "source": [
    "df2 = df2.iloc[:, [0, 3]]\n",
    "df2.head()"
   ]
  },
  {
   "cell_type": "markdown",
   "id": "1c0f4ee7",
   "metadata": {},
   "source": [
    "### CONVERTING THE FINAL DATAFRAME TO CSV FILE WITH PREDICTED LABELS"
   ]
  },
  {
   "cell_type": "code",
   "execution_count": 24,
   "id": "12c72ad8",
   "metadata": {},
   "outputs": [],
   "source": [
    "df2.to_csv(\"irmidis-2021-task2-predictions-3.csv\", index = False)"
   ]
  },
  {
   "cell_type": "code",
   "execution_count": null,
   "id": "49830c44",
   "metadata": {},
   "outputs": [],
   "source": []
  }
 ],
 "metadata": {
  "kernelspec": {
   "display_name": "Python 3",
   "language": "python",
   "name": "python3"
  },
  "language_info": {
   "codemirror_mode": {
    "name": "ipython",
    "version": 3
   },
   "file_extension": ".py",
   "mimetype": "text/x-python",
   "name": "python",
   "nbconvert_exporter": "python",
   "pygments_lexer": "ipython3",
   "version": "3.8.8"
  }
 },
 "nbformat": 4,
 "nbformat_minor": 5
}
